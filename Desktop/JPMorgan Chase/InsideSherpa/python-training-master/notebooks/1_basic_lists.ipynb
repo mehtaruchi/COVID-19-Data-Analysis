{
  "nbformat": 4,
  "nbformat_minor": 0,
  "metadata": {
    "colab": {
      "name": "1_basic_lists.ipynb",
      "provenance": [],
      "collapsed_sections": []
    },
    "kernelspec": {
      "name": "python3",
      "display_name": "Python 3"
    }
  },
  "cells": [
    {
      "cell_type": "markdown",
      "metadata": {
        "id": "5WHYGKvHWZ1K",
        "colab_type": "text"
      },
      "source": [
        "**Basic Data Structure in Python - Lists** :\n",
        "> Indented block\n",
        "\n"
      ]
    },
    {
      "cell_type": "code",
      "metadata": {
        "id": "WaJo5g-EWoFj",
        "colab_type": "code",
        "colab": {
          "base_uri": "https://localhost:8080/",
          "height": 50
        },
        "outputId": "8f75f25c-0f86-4355-b33e-22bf0e8a4ba3"
      },
      "source": [
        "# To create a list, you use the square brackets and add elements into it accordingly. \n",
        "#If you do not pass any elements inside the square brackets, you get an empty list as the output.\n",
        "\n",
        "my_list = [] #create empty list\n",
        "print(my_list)\n",
        "my_list = [1, 2, 3, 'example', 3.132] #creating list with data\n",
        "print(my_list)"
      ],
      "execution_count": 3,
      "outputs": [
        {
          "output_type": "stream",
          "text": [
            "[]\n",
            "[1, 2, 3, 'example', 3.132]\n"
          ],
          "name": "stdout"
        }
      ]
    },
    {
      "cell_type": "code",
      "metadata": {
        "id": "bzFBmhMaXwt1",
        "colab_type": "code",
        "colab": {
          "base_uri": "https://localhost:8080/",
          "height": 50
        },
        "outputId": "2715cbd9-f410-4986-ae23-116cd4a862f2"
      },
      "source": [
        "'''Accessing List Items -\n",
        "By referring to the index number:'''\n",
        "\n",
        "thislist = [\"apple\", \"banana\", \"cherry\"]\n",
        "print(thislist[1])\n",
        "\n",
        "#Negative indexing means beginning from the end, -1 refers to the last item, -2 refers to the second last item etc.\n",
        "\n",
        "\n",
        "thislist = [\"apple\", \"banana\", \"cherry\"]\n",
        "print(thislist[-1])"
      ],
      "execution_count": 5,
      "outputs": [
        {
          "output_type": "stream",
          "text": [
            "banana\n",
            "cherry\n"
          ],
          "name": "stdout"
        }
      ]
    },
    {
      "cell_type": "code",
      "metadata": {
        "id": "Wus_hHKPYKwc",
        "colab_type": "code",
        "colab": {
          "base_uri": "https://localhost:8080/",
          "height": 67
        },
        "outputId": "4f7b4439-fd77-47ce-b59c-f5f387705cf9"
      },
      "source": [
        "'''You can specify a range of indexes by specifying where to start and where to end the range.\n",
        "When specifying a range, the return value will be a new list with the specified items.'''\n",
        "\n",
        "\n",
        "thislist = [\"apple\", \"banana\", \"cherry\", \"orange\", \"kiwi\", \"melon\", \"mango\"]\n",
        "print(thislist[2:5])\n",
        "\n",
        "#By leaving out the start value, the range will start at the first item:\n",
        "\n",
        "thislist = [\"apple\", \"banana\", \"cherry\", \"orange\", \"kiwi\", \"melon\", \"mango\"]\n",
        "print(thislist[:4])\n",
        "\n",
        "#By leaving out the end value, the range will go on to the end of the list:\n",
        "\n",
        "thislist = [\"apple\", \"banana\", \"cherry\", \"orange\", \"kiwi\", \"melon\", \"mango\"]\n",
        "print(thislist[2:])"
      ],
      "execution_count": 7,
      "outputs": [
        {
          "output_type": "stream",
          "text": [
            "['cherry', 'orange', 'kiwi']\n",
            "['apple', 'banana', 'cherry', 'orange']\n",
            "['cherry', 'orange', 'kiwi', 'melon', 'mango']\n"
          ],
          "name": "stdout"
        }
      ]
    },
    {
      "cell_type": "code",
      "metadata": {
        "id": "g221hnkKYk5r",
        "colab_type": "code",
        "colab": {
          "base_uri": "https://localhost:8080/",
          "height": 101
        },
        "outputId": "c2e3abdb-7a8c-4f25-a717-1682070ddea8"
      },
      "source": [
        "'''Loop Through a List\n",
        "You can loop through the list items by using a for loop:'''\n",
        "\n",
        "thislist = [\"apple\", \"banana\", \"cherry\"]\n",
        "for x in thislist:\n",
        "  print(x)\n",
        "\n",
        "'''Check if Item Exists\n",
        "To determine if a specified item is present in a list use the in keyword:'''\n",
        "\n",
        "thislist = [\"apple\", \"banana\", \"cherry\"]\n",
        "if \"apple\" in thislist:\n",
        "  print(\"Yes, 'apple' is in the fruits list\")\n",
        "\n",
        "'''List Length\n",
        "To determine how many items a list has, use the len() function:'''\n",
        "\n",
        "thislist = [\"apple\", \"banana\", \"cherry\"]\n",
        "print(len(thislist))"
      ],
      "execution_count": 8,
      "outputs": [
        {
          "output_type": "stream",
          "text": [
            "apple\n",
            "banana\n",
            "cherry\n",
            "Yes, 'apple' is in the fruits list\n",
            "3\n"
          ],
          "name": "stdout"
        }
      ]
    },
    {
      "cell_type": "code",
      "metadata": {
        "id": "A6Z48176Zyn1",
        "colab_type": "code",
        "colab": {
          "base_uri": "https://localhost:8080/",
          "height": 84
        },
        "outputId": "2ff7b5aa-8b97-4807-a36f-009c1693eff2"
      },
      "source": [
        "'''Adding Elements to the list -\n",
        "Adding the elements in the list can be achieved using the append(), extend() and insert() functions.\n",
        "\n",
        "The append() function adds all the elements passed to it as a single element.\n",
        "The extend() function adds the elements one-by-one into the list.\n",
        "The insert() function adds the element passed to the index value and increase the size of the list too.'''\n",
        "\n",
        "my_list = [1, 2, 3]\n",
        "print(my_list)\n",
        "my_list.append([555, 12]) #add as a single element\n",
        "print(my_list)\n",
        "my_list.extend([234, 'more_example']) #add as different elements\n",
        "print(my_list)\n",
        "my_list.insert(1, 'insert_example') #add element i\n",
        "print(my_list)"
      ],
      "execution_count": 9,
      "outputs": [
        {
          "output_type": "stream",
          "text": [
            "[1, 2, 3]\n",
            "[1, 2, 3, [555, 12]]\n",
            "[1, 2, 3, [555, 12], 234, 'more_example']\n",
            "[1, 'insert_example', 2, 3, [555, 12], 234, 'more_example']\n"
          ],
          "name": "stdout"
        }
      ]
    },
    {
      "cell_type": "code",
      "metadata": {
        "id": "vEJIcA67Z67H",
        "colab_type": "code",
        "colab": {
          "base_uri": "https://localhost:8080/",
          "height": 151
        },
        "outputId": "4685725c-7535-4cfd-8286-bebc5a5c7a50"
      },
      "source": [
        "'''Removing Elements from the List\n",
        "Using remove() method\n",
        "Elements can be removed from the List by using built-in remove() function but an Error arises if element doesn’t exist in the set. \n",
        "Remove() method only removes one element at a time, to remove range of elements, iterator is used. \n",
        "The remove() method removes the specified item.\n",
        "Note – Remove method in List will only remove the first occurrence of the searched element.'''\n",
        "\n",
        "# Python program to demonstrate \n",
        "# Removal of elements in a List \n",
        "\n",
        "# Creating a List \n",
        "List = [1, 2, 3, 4, 5, 6, \n",
        "\t\t7, 8, 9, 10, 11, 12] \n",
        "print(\"Intial List: \") \n",
        "print(List) \n",
        "\n",
        "# Removing elements from List \n",
        "# using Remove() method \n",
        "List.remove(5) \n",
        "List.remove(6) \n",
        "print(\"\\nList after Removal of two elements: \") \n",
        "print(List) \n",
        "\n",
        "# Removing elements from List \n",
        "# using iterator method \n",
        "for i in range(1, 5): \n",
        "\tList.remove(i) \n",
        "print(\"\\nList after Removing a range of elements: \") \n",
        "print(List) \n"
      ],
      "execution_count": 10,
      "outputs": [
        {
          "output_type": "stream",
          "text": [
            "Intial List: \n",
            "[1, 2, 3, 4, 5, 6, 7, 8, 9, 10, 11, 12]\n",
            "\n",
            "List after Removal of two elements: \n",
            "[1, 2, 3, 4, 7, 8, 9, 10, 11, 12]\n",
            "\n",
            "List after Removing a range of elements: \n",
            "[7, 8, 9, 10, 11, 12]\n"
          ],
          "name": "stdout"
        }
      ]
    }
  ]
}